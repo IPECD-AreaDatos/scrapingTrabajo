{
 "cells": [
  {
   "cell_type": "code",
   "execution_count": 17,
   "metadata": {},
   "outputs": [],
   "source": [
    "import os \n",
    "from dotenv import load_dotenv\n",
    "import pymysql\n",
    "import pandas as pd\n",
    "\n"
   ]
  },
  {
   "cell_type": "code",
   "execution_count": 18,
   "metadata": {},
   "outputs": [],
   "source": [
    "# Cargar las variables de entorno desde el archivo .env\n",
    "load_dotenv()\n",
    "\n",
    "host_dbb = (os.getenv('HOST_DBB'))\n",
    "user_dbb = (os.getenv('USER_DBB'))\n",
    "pass_dbb = (os.getenv('PASSWORD_DBB'))\n",
    "dbb_datalake = (os.getenv('NAME_DBB_DATALAKE_ECONOMICO'))\n"
   ]
  },
  {
   "cell_type": "code",
   "execution_count": 19,
   "metadata": {},
   "outputs": [],
   "source": [
    "#Conexion\n",
    "conn = pymysql.connect(host=host_dbb,user=user_dbb,password=pass_dbb,database=dbb_datalake)\n",
    "cursor = conn.cursor()"
   ]
  },
  {
   "cell_type": "code",
   "execution_count": 20,
   "metadata": {},
   "outputs": [],
   "source": [
    "query_select = 'SELECT fecha, cantidad FROM combustible WHERE provincia = 18 and fecha >= \"2018-12-01\"'\n"
   ]
  },
  {
   "cell_type": "code",
   "execution_count": 21,
   "metadata": {},
   "outputs": [
    {
     "name": "stderr",
     "output_type": "stream",
     "text": [
      "/tmp/ipykernel_6374/3149209271.py:1: UserWarning: pandas only supports SQLAlchemy connectable (engine/connection) or database string URI or sqlite3 DBAPI2 connection. Other DBAPI2 objects are not tested. Please consider using SQLAlchemy.\n",
      "  df = pd.read_sql(query_select,conn)\n"
     ]
    },
    {
     "name": "stdout",
     "output_type": "stream",
     "text": [
      "           fecha  cantidad\n",
      "0     2022-10-01      38.0\n",
      "1     2022-10-01      13.0\n",
      "2     2019-04-01       0.0\n",
      "3     2019-04-01       6.0\n",
      "4     2019-04-01       0.0\n",
      "...          ...       ...\n",
      "36016 2024-08-01       0.0\n",
      "36017 2024-08-01       0.0\n",
      "36018 2024-08-01       0.0\n",
      "36019 2024-08-01       0.0\n",
      "36020 2024-08-01       0.0\n",
      "\n",
      "[36021 rows x 2 columns]\n"
     ]
    }
   ],
   "source": [
    "df = pd.read_sql(query_select,conn)\n",
    "print(df)"
   ]
  },
  {
   "cell_type": "code",
   "execution_count": 22,
   "metadata": {},
   "outputs": [
    {
     "data": {
      "text/plain": [
       "fecha\n",
       "2018-12    35454.174\n",
       "2019-01    33570.114\n",
       "2019-02    35290.807\n",
       "2019-03    34978.064\n",
       "2019-04    32262.636\n",
       "             ...    \n",
       "2024-04    36553.935\n",
       "2024-05    36813.671\n",
       "2024-06    38015.482\n",
       "2024-07    43661.499\n",
       "2024-08    42468.694\n",
       "Freq: M, Name: cantidad, Length: 69, dtype: float64"
      ]
     },
     "execution_count": 22,
     "metadata": {},
     "output_type": "execute_result"
    }
   ],
   "source": [
    "# Agrupar por año y mes y sumar las cantidades\n",
    "df_combustible = df.groupby(df['fecha'].dt.to_period('M'))['cantidad'].sum()\n",
    "df_combustible"
   ]
  }
 ],
 "metadata": {
  "kernelspec": {
   "display_name": "env",
   "language": "python",
   "name": "python3"
  },
  "language_info": {
   "codemirror_mode": {
    "name": "ipython",
    "version": 3
   },
   "file_extension": ".py",
   "mimetype": "text/x-python",
   "name": "python",
   "nbconvert_exporter": "python",
   "pygments_lexer": "ipython3",
   "version": "3.12.3"
  }
 },
 "nbformat": 4,
 "nbformat_minor": 2
}
