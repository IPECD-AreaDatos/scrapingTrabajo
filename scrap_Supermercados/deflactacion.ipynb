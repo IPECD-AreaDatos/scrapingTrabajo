{
 "cells": [
  {
   "cell_type": "code",
   "execution_count": 49,
   "metadata": {},
   "outputs": [],
   "source": [
    "import mysql.connector\n",
    "import pandas as pd\n",
    "import sys\n",
    "\n",
    "host = '54.94.131.196'\n",
    "user = 'estadistica'\n",
    "password = 'Estadistica2024!!'\n",
    "database = 'datalake_economico'\n",
    "\n",
    "conn = mysql.connector.connect(\n",
    "    host=host, user=user, password=password, database=database\n",
    ")\n",
    "cursor = conn.cursor()\n"
   ]
  },
  {
   "cell_type": "code",
   "execution_count": 50,
   "metadata": {},
   "outputs": [
    {
     "name": "stderr",
     "output_type": "stream",
     "text": [
      "C:\\Users\\Usuario\\AppData\\Local\\Temp\\ipykernel_4376\\1586455505.py:3: UserWarning: pandas only supports SQLAlchemy connectable (engine/connection) or database string URI or sqlite3 DBAPI2 connection. Other DBAPI2 objects are not tested. Please consider using SQLAlchemy.\n",
      "  df_supermercado = pd.read_sql(query_supemercado,conn)\n"
     ]
    }
   ],
   "source": [
    "#Extraemos datos del SUPERMERCADO\n",
    "query_supemercado = \"SELECT * FROM supermercado_encuesta\"\n",
    "df_supermercado = pd.read_sql(query_supemercado,conn)\n",
    "df_supermercado = df_supermercado.sort_values(by=['id_region_indec','id_provincia_indec','fecha'])\n",
    "\n",
    "#Buscamos la fecha maxima y la fecha minima para truncar por ese rango de fechas la tabla de IPC\n",
    "fecha_min = min(df_supermercado['fecha'])\n",
    "fecha_max = max(df_supermercado['fecha'])"
   ]
  },
  {
   "cell_type": "code",
   "execution_count": 51,
   "metadata": {},
   "outputs": [
    {
     "name": "stderr",
     "output_type": "stream",
     "text": [
      "C:\\Users\\Usuario\\AppData\\Local\\Temp\\ipykernel_4376\\976417224.py:3: UserWarning: pandas only supports SQLAlchemy connectable (engine/connection) or database string URI or sqlite3 DBAPI2 connection. Other DBAPI2 objects are not tested. Please consider using SQLAlchemy.\n",
      "  df_ipc = pd.read_sql(query_ipc,conn)\n"
     ]
    }
   ],
   "source": [
    "#Extramos los datos del IPC solo hasta la fecha maxima solicitada\n",
    "query_ipc = f\"SELECT * FROM ipc_valores WHERE fecha BETWEEN '{fecha_min}' AND '{fecha_max}';\"\n",
    "df_ipc = pd.read_sql(query_ipc,conn)\n",
    "\n",
    "#Columnas del IPC por subdivision\n",
    "columnas = ['id_region_indec','general','aguasminerales_bebidas_gaseosas','bebidas_alcholicas','pan_cereales','leche_productos_lacteos_huevos','carnes_derivados','verduras_tuberculos_legumbres',\n",
    "'alimentos','restaurantes_comida_fueradelhogar','aceite_grasas_mantecas','azucar_chocalate_golosina','bienes_servicios_conservacionhogar','cuidadopersonal',\n",
    "'prendasdevestir_y_calzados','equipos_audivisuales_fotograficos_procesamiento_info']\n",
    "\n",
    "#Datos del IPC por subdivision\n",
    "df_total_ipc = pd.DataFrame(columns = columnas)\n",
    "\n"
   ]
  },
  {
   "cell_type": "markdown",
   "metadata": {},
   "source": [
    "<h1> Datos del IPC por SUBDIVISION </h1>\n",
    "Se usaran para la DEFLACTACION de los precios de Supermercado."
   ]
  },
  {
   "cell_type": "code",
   "execution_count": 52,
   "metadata": {},
   "outputs": [],
   "source": [
    "df_datopor_region = pd.DataFrame(columns=columnas)\n",
    "\n",
    "regiones = [2,3,4,5,6,7]\n",
    "\n",
    "for region in regiones:\n",
    "\n",
    "    df_datopor_region['general'] = list(df_ipc['valor'][(df_ipc['id_subdivision'] == 1) & (df_ipc['id_region'] == region)])\n",
    "    df_datopor_region['aguasminerales_bebidas_gaseosas'] = list(df_ipc['valor'][(df_ipc['id_subdivision'] == 13) & (df_ipc['id_region'] == region)])\n",
    "    df_datopor_region['bebidas_alcholicas'] = list(df_ipc['valor'][(df_ipc['id_subdivision'] == 15) & (df_ipc['id_region'] == region)])\n",
    "    df_datopor_region['pan_cereales'] = list(df_ipc['valor'][(df_ipc['id_subdivision'] == 4) & (df_ipc['id_region'] == region)])\n",
    "    df_datopor_region['leche_productos_lacteos_huevos'] = list(df_ipc['valor'][(df_ipc['id_subdivision'] == 6) & (df_ipc['id_region'] == region)])\n",
    "    df_datopor_region['carnes_derivados'] = list(df_ipc['valor'][(df_ipc['id_subdivision'] == 5) & (df_ipc['id_region'] == region)])\n",
    "    df_datopor_region['verduras_tuberculos_legumbres'] = list(df_ipc['valor'][(df_ipc['id_subdivision'] == 9) & (df_ipc['id_region'] == region)])\n",
    "    df_datopor_region['alimentos'] = list(df_ipc['valor'][(df_ipc['id_subdivision'] == 3) & (df_ipc['id_region'] == region)])\n",
    "    df_datopor_region['restaurantes_comida_fueradelhogar'] = list(df_ipc['valor'][(df_ipc['id_subdivision'] == 43) & (df_ipc['id_region'] == region)])\n",
    "    df_datopor_region['aceite_grasas_mantecas'] = list(df_ipc['valor'][(df_ipc['id_subdivision'] ==7) & (df_ipc['id_region'] == region)])\n",
    "    df_datopor_region['azucar_chocalate_golosina'] = list(df_ipc['valor'][(df_ipc['id_subdivision'] ==10) & (df_ipc['id_region'] == region)])\n",
    "    df_datopor_region['bienes_servicios_conservacionhogar'] = list(df_ipc['valor'][(df_ipc['id_subdivision'] ==26) & (df_ipc['id_region'] == region)])\n",
    "    df_datopor_region['cuidadopersonal'] = list(df_ipc['valor'][(df_ipc['id_subdivision'] ==45) & (df_ipc['id_region'] == region)])\n",
    "    df_datopor_region['prendasdevestir_y_calzados'] = list(df_ipc['valor'][(df_ipc['id_subdivision'] ==17) & (df_ipc['id_region'] == region)])\n",
    "\n",
    "    #Esta subdivision solo existe en GBA, entonces se replica para cada region. id de GBA = 2 y la subdivision = 38\n",
    "    df_datopor_region['equipos_audivisuales_fotograficos_procesamiento_info'] = list(df_ipc['valor'][(df_ipc['id_subdivision'] ==38) & (df_ipc['id_region'] == 2)])\n",
    "\n",
    "    #La region se asigna ultimo ya que los las primeras filas se define el tamaño del DF por region, una vez definido asignamos el mismo valor a multiples filas\n",
    "    df_datopor_region['id_region_indec'] = region\n",
    "\n",
    "    #Concatenacion del df_total, con los datos obtenidos por region\n",
    "    df_total_ipc = pd.concat([df_total_ipc,df_datopor_region])"
   ]
  },
  {
   "cell_type": "markdown",
   "metadata": {},
   "source": [
    "<h1> Agrupacion por Provincia </h1>\n",
    "Vamos a buscar agrupar cada provincia con los datos del IPC que le corresponden"
   ]
  },
  {
   "cell_type": "code",
   "execution_count": 53,
   "metadata": {},
   "outputs": [],
   "source": [
    "#Obtenemos en forma de LISTA los ID de la provincias\n",
    "id_provincias = list(pd.unique(df_supermercado['id_provincia_indec']))\n",
    "\n",
    "#Eliminamos NACION ya que es un dato que no usaremos. Tambien la PROV de buenos aires ya que tiene un trato particular\n",
    "id_provincias.remove(1)\n",
    "id_provincias.remove(6)\n",
    "\n",
    "#Agrupamos las columnas que vamos a usar - Es un conjunto de las tablas del supermercado y de la IPC y los valores por region\n",
    "lista_columnas = list(df_supermercado.columns)\n",
    "\n",
    "for columnas in df_total_ipc.columns:\n",
    "\n",
    "    if columnas == 'id_region_indec':\n",
    "        pass\n",
    "    else:\n",
    "        lista_columnas.append(columnas)\n",
    "\n",
    "df_datos_todas_las_provincias = pd.DataFrame(columns=lista_columnas) #--> DF con el que concatenamos datos\n",
    "df_datos_por_provincia = pd.DataFrame(columns=lista_columnas) #--> DF que contiene datos por provincia\n"
   ]
  },
  {
   "cell_type": "code",
   "execution_count": 54,
   "metadata": {},
   "outputs": [],
   "source": [
    "#=== Estudia de BUENOS AIRES\n",
    "\n",
    "#Obtenemos datos de BUENOS AIRES en la REGION 2 y REGION 3\n",
    "df_datos_por_provincia_gba = pd.DataFrame(columns=lista_columnas)\n",
    "df_datos_por_provincia_pampeana = pd.DataFrame(columns=lista_columnas)\n",
    "\n",
    "df_datos_por_provincia_gba[df_supermercado.columns] = df_supermercado[df_supermercado.columns][(df_supermercado['id_provincia_indec'] == 6) & (df_supermercado['id_region_indec'] == 2)]\n",
    "df_datos_por_provincia_pampeana[df_supermercado.columns] = df_supermercado[df_supermercado.columns][(df_supermercado['id_provincia_indec'] == 6) & (df_supermercado['id_region_indec'] == 3)]\n",
    "\n",
    "#Lista sin id_region_indec\n",
    "lista_sin_region = list(df_total_ipc.columns)\n",
    "lista_sin_region.remove('id_region_indec')\n",
    "\n",
    "for columna in lista_sin_region:\n",
    "    df_datos_por_provincia_gba[columna] = list(df_total_ipc[columna][df_total_ipc['id_region_indec'] == 2])\n",
    "    df_datos_por_provincia_pampeana[columna] = list(df_total_ipc[columna][df_total_ipc['id_region_indec'] == 3])\n",
    "\n",
    "\n",
    "df_datos_todas_las_provincias = pd.concat([df_datos_todas_las_provincias,df_datos_por_provincia_gba,df_datos_por_provincia_pampeana])"
   ]
  },
  {
   "cell_type": "markdown",
   "metadata": {},
   "source": [
    "<h1>Todas las provincias</h1>"
   ]
  },
  {
   "cell_type": "code",
   "execution_count": 55,
   "metadata": {},
   "outputs": [
    {
     "data": {
      "text/plain": [
       "Index(['id_region_indec', 'id_provincia_indec', 'fecha', 'total_facturacion',\n",
       "       'bebidas', 'almacen', 'panaderia', 'lacteos', 'carnes',\n",
       "       'verduleria_fruteria', 'alimentos_preparados_rostiseria',\n",
       "       'articulos_limpieza_perfumeria', 'indumentaria_calzado_textiles_hogar',\n",
       "       'electronica_hogar', 'otros', 'general',\n",
       "       'aguasminerales_bebidas_gaseosas', 'bebidas_alcholicas', 'pan_cereales',\n",
       "       'leche_productos_lacteos_huevos', 'carnes_derivados',\n",
       "       'verduras_tuberculos_legumbres', 'alimentos',\n",
       "       'restaurantes_comida_fueradelhogar', 'aceite_grasas_mantecas',\n",
       "       'azucar_chocalate_golosina', 'bienes_servicios_conservacionhogar',\n",
       "       'cuidadopersonal', 'prendasdevestir_y_calzados',\n",
       "       'equipos_audivisuales_fotograficos_procesamiento_info'],\n",
       "      dtype='object')"
      ]
     },
     "execution_count": 55,
     "metadata": {},
     "output_type": "execute_result"
    }
   ],
   "source": [
    "#Recorremos todas las provincias por su ID\n",
    "for id_provincia in id_provincias:\n",
    "\n",
    "    #Obtencion de la totalidad de los datos por provincia de las encuestas del supermercado\n",
    "    for columna_supermercado in (df_supermercado.columns):\n",
    "\n",
    "        df_datos_por_provincia[columna_supermercado] = list(df_supermercado[columna_supermercado]\n",
    "                                                            [df_supermercado['id_provincia_indec'] == id_provincia])\n",
    "\n",
    "\n",
    "    #=== Obtencion de la totalidad de datos del IPC por region\n",
    "\n",
    "\n",
    "    #Obtencion de la region\n",
    "    region = df_datos_por_provincia['id_region_indec'].values[0]\n",
    "\n",
    "    #Obtencion de los datos de dicha region\n",
    "    df_region_buscada = df_total_ipc[df_total_ipc['id_region_indec'] == region]\n",
    "\n",
    "    for columna_ipc_subdivision in df_region_buscada.columns:\n",
    "\n",
    "        df_datos_por_provincia[columna_ipc_subdivision] = list(df_region_buscada[columna_ipc_subdivision])\n",
    "\n",
    "    df_datos_todas_las_provincias = pd.concat([df_datos_todas_las_provincias,df_datos_por_provincia])\n",
    "    \n",
    "df_datos_todas_las_provincias.columns"
   ]
  },
  {
   "cell_type": "markdown",
   "metadata": {},
   "source": [
    "<h1> Calculo final </h1>"
   ]
  },
  {
   "cell_type": "code",
   "execution_count": 58,
   "metadata": {},
   "outputs": [],
   "source": [
    "df_deflactado = pd.DataFrame()\n",
    "\n",
    "#Asignacion de columnas comunes\n",
    "df_deflactado['fecha'] = df_datos_todas_las_provincias['fecha']\n",
    "df_deflactado['id_region_indec'] = df_datos_todas_las_provincias['id_region_indec']\n",
    "df_deflactado['id_provincia_indec'] = df_datos_todas_las_provincias['id_provincia_indec']\n",
    "\n",
    "#=D69/(((R69*(1/2))+(S69*(1/2)))/100)\n",
    "\n",
    "#=== Calculo con ponderaciones asignadas\n",
    "\n",
    "#Ponderacion general\n",
    "df_deflactado['total_facturacion'] = df_datos_todas_las_provincias['total_facturacion'] / (df_datos_todas_las_provincias['general'] / 100 )\n",
    "\n",
    "#Ponderacion de bebidas\n",
    "df_deflactado['bebidas'] = df_datos_todas_las_provincias['bebidas'] / (( (df_datos_todas_las_provincias['aguasminerales_bebidas_gaseosas'] * (1/2) ) + (df_datos_todas_las_provincias['bebidas_alcholicas'] * (1/2) )  ) /100 )\n",
    "\n",
    "#Ponderacion de almacen\n",
    "df_deflactado['almacen'] = df_datos_todas_las_provincias['almacen'] / (((df_datos_todas_las_provincias['pan_cereales'] * (1/3)) + (df_datos_todas_las_provincias['aceite_grasas_mantecas'] * (1/3)) + (df_datos_todas_las_provincias['azucar_chocalate_golosina'] * (1/3))) / 100)\n",
    "\n",
    "#Ponderacion de panaderia\n",
    "df_deflactado['panaderia'] = df_datos_todas_las_provincias['panaderia'] / (df_datos_todas_las_provincias['pan_cereales'] / 100)\n",
    "\n",
    "#Ponderacion de lacteos\n",
    "df_deflactado['lacteos'] = df_datos_todas_las_provincias['lacteos'] / (df_datos_todas_las_provincias['leche_productos_lacteos_huevos'] / 100)\n",
    "\n",
    "#Ponderacion de carnes\n",
    "df_deflactado['carnes'] = df_datos_todas_las_provincias['carnes'] / (df_datos_todas_las_provincias['carnes_derivados'] / 100)\n",
    "\n",
    "#Ponderacion de verduleria y fruteria\n",
    "df_deflactado['verduleria_fruteria'] = df_datos_todas_las_provincias['verduleria_fruteria'] / (df_datos_todas_las_provincias['verduras_tuberculos_legumbres'] / 100)\n",
    "\n",
    "#ponderacion de alimentos preparados y rostiseria\n",
    "df_deflactado['alimentos_preparados_rostiseria'] = df_datos_todas_las_provincias['alimentos_preparados_rostiseria'] / (df_datos_todas_las_provincias['restaurantes_comida_fueradelhogar'] / 100)\n",
    "\n",
    "#Ponderacion de articulos de limpieza\n",
    "df_deflactado['articulos_limpieza_perfumeria'] = df_datos_todas_las_provincias['articulos_limpieza_perfumeria'] / (((df_datos_todas_las_provincias['bienes_servicios_conservacionhogar'] * (1/2)) + (df_datos_todas_las_provincias['cuidadopersonal'] * (1/2))) /100 )\n",
    "\n",
    "#Ponderacion de Indumentaria, calzado y textiles\n",
    "df_deflactado['indumentaria_calzado_textiles_hogar'] = df_datos_todas_las_provincias['indumentaria_calzado_textiles_hogar'] / (df_datos_todas_las_provincias['prendasdevestir_y_calzados'] / 100 )\n",
    "\n",
    "#Ponderacion de Equipos audiovisuales, fotográficos y de procesamiento de la información\n",
    "df_deflactado['electronica_hogar'] = df_datos_todas_las_provincias['electronica_hogar'] /  (df_datos_todas_las_provincias['equipos_audivisuales_fotograficos_procesamiento_info'] / 100 )\n",
    "\n",
    "\n",
    "df_deflactado['otros'] = df_datos_todas_las_provincias['otros'] /  (df_datos_todas_las_provincias['general'] / 100 )\n",
    "\n",
    "# Guardar el DataFrame df_deflactado en un archivo Excel\n",
    "nombre_archivo_excel = 'df_deflactado.xlsx'  # Nombre del archivo de salida\n",
    "df_deflactado.to_excel(nombre_archivo_excel, index=False)\n"
   ]
  }
 ],
 "metadata": {
  "kernelspec": {
   "display_name": "Python 3",
   "language": "python",
   "name": "python3"
  },
  "language_info": {
   "codemirror_mode": {
    "name": "ipython",
    "version": 3
   },
   "file_extension": ".py",
   "mimetype": "text/x-python",
   "name": "python",
   "nbconvert_exporter": "python",
   "pygments_lexer": "ipython3",
   "version": "3.11.4"
  }
 },
 "nbformat": 4,
 "nbformat_minor": 2
}
