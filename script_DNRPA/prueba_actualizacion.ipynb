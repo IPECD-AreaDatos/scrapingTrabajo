{
 "cells": [
  {
   "cell_type": "code",
   "execution_count": 34,
   "metadata": {},
   "outputs": [],
   "source": [
    "#Prueba de actualizacion - Base de dato DNRPA\n",
    "# Carga de librerias\n",
    "\n",
    "import datetime\n",
    "import mysql.connector\n",
    "import time\n",
    "from selenium import webdriver\n",
    "from selenium.webdriver.common.by import By\n",
    "import openpyxl\n",
    "import pandas as pd\n",
    "from datetime import datetime\n",
    "import os\n",
    "\n",
    "#Variables globales\n",
    "host = '172.17.22.10'\n",
    "user = 'Ivan'\n",
    "password = 'Estadistica123'\n",
    "database = 'prueba1'"
   ]
  },
  {
   "cell_type": "code",
   "execution_count": 35,
   "metadata": {},
   "outputs": [],
   "source": [
    "# Conexion con BDD \n",
    "conn = mysql.connector.connect( host=host, user=user, password=password, database=database)\n",
    "\n",
    "#Instancia manejadora de BDD\n",
    "\n",
    "cursor = conn.cursor()"
   ]
  },
  {
   "cell_type": "code",
   "execution_count": 36,
   "metadata": {},
   "outputs": [
    {
     "name": "stderr",
     "output_type": "stream",
     "text": [
      "C:\\Users\\Administrador\\AppData\\Local\\Temp\\ipykernel_7616\\2905415087.py:9: UserWarning: pandas only supports SQLAlchemy connectable (engine/connection) or database string URI or sqlite3 DBAPI2 connection. Other DBAPI2 objects are not tested. Please consider using SQLAlchemy.\n",
      "  df = pd.read_sql(select_dates_query,con=conn)\n"
     ]
    }
   ],
   "source": [
    "#Busqueda por nombre de TABLA \n",
    "\n",
    "table_name = \"dnrpa_inscripcion_nacion_auto\"\n",
    "\n",
    "#Creacion de orden en lenguaje MYSQL\n",
    "select_dates_query = \"SELECT * FROM dnrpa_inscripcion_corrientes_auto\"\n",
    "\n",
    "#Obtencion del DATAFRAME - uso de Orden creada y Conexion.\n",
    "df = pd.read_sql(select_dates_query,con=conn)\n",
    "\n",
    "#Busqueda del año mas grande (actual o anterior) --> Aclaracion por posible conflicto en los avisos por cada año nuevo\n",
    "año_de_comparacion = int(df['Fecha'].max().year)\n",
    "\n"
   ]
  },
  {
   "cell_type": "code",
   "execution_count": 39,
   "metadata": {},
   "outputs": [
    {
     "name": "stdout",
     "output_type": "stream",
     "text": [
      "C:\\Users\\Administrador\\Desktop\\scrapingTrabajo\\script_DNRPA\n"
     ]
    }
   ],
   "source": [
    "from pathlib import Path\n",
    "import os\n",
    "\n",
    "# Obtener el directorio actual del notebook\n",
    "directorio_actual = Path(os.getcwd())\n",
    "\n",
    "# Obtener la ruta completa del archivo .ipynb\n",
    "ruta_archivo_ipynb = directorio_actual.joinpath(Path())\n",
    "\n",
    "# Obtener la dirección del archivo .ipynb\n",
    "direccion_archivo_ipynb = str(ruta_archivo_ipynb.resolve())\n",
    "\n",
    "# Mostrar la dirección del archivo\n",
    "print(direccion_archivo_ipynb)"
   ]
  },
  {
   "cell_type": "code",
   "execution_count": 51,
   "metadata": {},
   "outputs": [
    {
     "ename": "SyntaxError",
     "evalue": "'(' was never closed (792319251.py, line 22)",
     "output_type": "error",
     "traceback": [
      "\u001b[1;36m  Cell \u001b[1;32mIn[51], line 22\u001b[1;36m\u001b[0m\n\u001b[1;33m    int(i.get_attribute('value')\u001b[0m\n\u001b[1;37m       ^\u001b[0m\n\u001b[1;31mSyntaxError\u001b[0m\u001b[1;31m:\u001b[0m '(' was never closed\n"
     ]
    }
   ],
   "source": [
    "#===== Obtencion de datos de la web DROPNA =====#\n",
    "\n",
    "try:\n",
    "# Obtener la ruta del directorio actual (donde se encuentra el script)\n",
    "    directorio_actual = direccion_archivo_ipynb\n",
    "    ruta_carpeta_files = os.path.join(directorio_actual, 'files')\n",
    "    ruta_archivo_excel = os.path.join(ruta_carpeta_files, 'registroInscripcionAutoNacion.xlsx')\n",
    "\n",
    "            #↓↓↓↓↓↓↓↓↓↓↓↓↓↓↓↓↓↓↓↓↓ SELENIUM ↓↓↓↓↓↓↓↓↓↓↓↓↓↓↓↓↓↓↓↓↓↓↓↓↓↓\n",
    "    driver = webdriver.Chrome()\n",
    "    driver.get('https://www.dnrpa.gov.ar/portal_dnrpa/estadisticas/rrss_tramites/tram_prov.php?origen=portal_dnrpa&tipo_consulta=inscripciones')\n",
    "            # Obtener la ventana actual\n",
    "    ventana_actual = driver.current_window_handle\n",
    "            \n",
    "    elemento = driver.find_element(By.XPATH, '//*[@id=\"seleccion\"]/center/table/tbody/tr[2]/td/select')\n",
    "    # Obtener todas las opciones del elemento select\n",
    "    opciones = elemento.find_elements(By.TAG_NAME, 'option')\n",
    "\n",
    "    # Buscar la opción deseada por su valor y hacer clic en ella\n",
    "    valor_deseado = '2023' # Valor de la opción que deseas seleccionar\n",
    "\n",
    "    for opcion in opciones:\n",
    "        if opcion.get_attribute('value') == valor_deseado:\n",
    "            opcion.click()\n",
    "            break\n",
    "    \n",
    "    boton = driver.find_element(By.XPATH, '//*[@id=\"seleccion\"]/center/table/tbody/tr[4]/td/input[1]')\n",
    "    boton.click()\n",
    "    \n",
    "    time.sleep(5)\n",
    "    \n",
    "    boton_aceptar = driver.find_element(By.XPATH, '//*[@id=\"seleccion\"]/center/center/input')\n",
    "    boton_aceptar.click()\n",
    "    \n",
    "    # Esperar un momento para que se abra la nueva pestaña\n",
    "    driver.implicitly_wait(5)\n",
    "    # Cambiar al contexto de la nueva pestaña\n",
    "    for ventana in driver.window_handles:\n",
    "        if ventana != ventana_actual:\n",
    "            driver.switch_to.window(ventana)\n",
    "    \n",
    "    time.sleep(5)\n",
    "    #↓↓↓↓↓↓↓↓↓↓↓↓↓↓↓↓↓↓↓↓↓ ENCONTRAR Y TOMAR LOS DATOS ↓↓↓↓↓↓↓↓↓↓↓↓↓↓↓↓↓↓↓↓↓↓↓↓↓↓\n",
    "    # Encontrar el elemento <div> con la clase 'grid'\n",
    "    elemento_div = driver.find_element(By.CLASS_NAME, 'grid')\n",
    "\n",
    "    # Encontrar la tabla dentro del elemento <div>\n",
    "    elemento_tabla = elemento_div.find_element(By.TAG_NAME, 'table')\n",
    "\n",
    "    # Obtener todas las filas de la tabla\n",
    "    filas = elemento_tabla.find_elements(By.TAG_NAME, 'tr')\n",
    "\n",
    "    # Lista para almacenar los datos de la tabla\n",
    "    tabla_datos = []\n",
    "    \n",
    "    for fila in filas:\n",
    "        # Obtener las celdas de cada fila, excluyendo la última columna y la última celda de encabezado\n",
    "        celdas = fila.find_elements(By.TAG_NAME, 'th') + fila.find_elements(By.TAG_NAME, 'td')[:-1]\n",
    "\n",
    "        # Lista para almacenar los valores de cada fila\n",
    "        fila_datos = []\n",
    "\n",
    "        for celda in celdas:\n",
    "            valor = celda.text\n",
    "            if isinstance(valor, str):\n",
    "                # Verificar si el valor comienza con un número\n",
    "                if valor.strip() and valor[0].isdigit():\n",
    "                    try:\n",
    "                        # Reemplazar el punto decimal por una coma (si es necesario)\n",
    "                        valor = valor.replace('.', '')\n",
    "                        # Intentar convertir el valor a float\n",
    "                        valor = float(valor)\n",
    "                        print(\"valor1: \", valor)\n",
    "                    except ValueError:\n",
    "                        pass  # Mantener el valor original si no se puede convertir a float\n",
    "            fila_datos.append(valor)\n",
    "        print(\"aca: \", fila_datos)\n",
    "        # Verificar si la última celda es \"Total\" y eliminarla\n",
    "        if fila_datos and fila_datos[-1] == \"Total\":\n",
    "            fila_datos.pop()\n",
    "\n",
    "\n",
    "        tabla_datos.append(fila_datos) \n",
    "    \n",
    "    datos_sin_segunda_fila = tabla_datos[0:1] + tabla_datos[2:]\n",
    "    # Transponer los datos utilizando pandas\n",
    "    df = pd.DataFrame(datos_sin_segunda_fila)\n",
    "    df_transpuesta = df.transpose()\n",
    "    \n",
    "    #Conversion de MESES a formato Y-M-D , tipo de dato: datetime\n",
    "    print(df_transpuesta[0][1:])\n",
    "    meses = df_transpuesta[0][1:]\n",
    "\n",
    "    #Donde almacenamos las nuevas fechas\n",
    "    nuevas_fechas = list()\n",
    "\n",
    "    for i in range(1, len(meses)+ 1):\n",
    "\n",
    "        if i < 10:\n",
    "            fecha_str =  '01-0'+str(i)+\"-\"+ str(valor_deseado)\n",
    "        else:\n",
    "            fecha_str = '01-'+str(i)+\"-\"+ str(valor_deseado)\n",
    "\n",
    "        fecha_str = datetime.strptime(fecha_str,'%d-%m-%Y').date()\n",
    "        nuevas_fechas.append(fecha_str)\n",
    "\n",
    "    #Reasignacion de fechas\n",
    "    df_transpuesta[0][1:] = nuevas_fechas\n",
    "\n",
    "except Exception as e:\n",
    "            # Manejar cualquier excepción ocurrida durante la carga de datos\n",
    "            print(f\"Registro automotor: Ocurrió un error durante la carga de datos: {str(e)}\")\n",
    "            conn.close()  # Cerrar la conexión en caso de error"
   ]
  },
  {
   "cell_type": "code",
   "execution_count": null,
   "metadata": {},
   "outputs": [],
   "source": []
  }
 ],
 "metadata": {
  "kernelspec": {
   "display_name": "Python 3",
   "language": "python",
   "name": "python3"
  },
  "language_info": {
   "codemirror_mode": {
    "name": "ipython",
    "version": 3
   },
   "file_extension": ".py",
   "mimetype": "text/x-python",
   "name": "python",
   "nbconvert_exporter": "python",
   "pygments_lexer": "ipython3",
   "version": "3.11.4"
  },
  "orig_nbformat": 4
 },
 "nbformat": 4,
 "nbformat_minor": 2
}
